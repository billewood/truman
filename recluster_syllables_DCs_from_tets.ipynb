{
 "cells": [
  {
   "cell_type": "code",
   "execution_count": null,
   "metadata": {},
   "outputs": [],
   "source": []
  },
  {
   "cell_type": "markdown",
   "metadata": {},
   "source": [
    "# We are missing the females DCs. I am going to find them in the tets. The reason I need a new notebook is because I still am not handling my indices very well and I have two dataframes, one with the right cluster numbers and one with the spectral features and I don't want to go back into the original notebooks to mess with this right now because they're too damn messy"
   ]
  },
  {
   "cell_type": "markdown",
   "metadata": {},
   "source": [
    "# ok so I'm not going to do this right now... I need to rewrite these clustering notebooks as functions, with standalone features so they are less messy to go back and understand"
   ]
  },
  {
   "cell_type": "markdown",
   "metadata": {},
   "source": []
  }
 ],
 "metadata": {
  "language_info": {
   "name": "python"
  }
 },
 "nbformat": 4,
 "nbformat_minor": 2
}
