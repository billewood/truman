{
 "cells": [
  {
   "cell_type": "code",
   "execution_count": null,
   "metadata": {},
   "outputs": [],
   "source": [
    "# if umap coordinates didn't get added in during the initial clustering do it here\n",
    "from scipy.signal import spectrogram, butter, sosfilt, sosfiltfilt, correlate\n",
    "from scipy.io.wavfile import read, write\n",
    "import IPython.display as ipd\n",
    "# import sys\n",
    "from collections import Counter\n",
    "import os\n",
    "import pandas as pd\n",
    "# import pandas as pd\n",
    "import numpy as np\n",
    "import matplotlib.colors as mcolors\n",
    "import pickle\n",
    "import csv\n",
    "from soundsig.sound import BioSound \n",
    "from soundsig.sound import WavFile\n",
    "\n",
    "# Dimension reduction and clustering libraries\n",
    "import umap\n",
    "import hdbscan\n",
    "import sklearn.cluster as cluster\n",
    "from sklearn.metrics import adjusted_rand_score, adjusted_mutual_info_score\n",
    "from sklearn.decomposition import PCA\n",
    "\n",
    "\n",
    "\n",
    "# from ipywidgets import interact, fixed\n",
    "# from ipywidgets import widgets\n",
    "import matplotlib.pyplot as plt"
   ]
  },
  {
   "cell_type": "code",
   "execution_count": null,
   "metadata": {},
   "outputs": [],
   "source": []
  }
 ],
 "metadata": {
  "language_info": {
   "name": "python"
  }
 },
 "nbformat": 4,
 "nbformat_minor": 2
}
