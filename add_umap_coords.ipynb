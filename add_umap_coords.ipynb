{
 "cells": [
  {
   "cell_type": "code",
   "execution_count": 1,
   "metadata": {},
   "outputs": [],
   "source": [
    "# if umap coordinates didn't get added in during the initial clustering do it here\n",
    "from scipy.signal import spectrogram, butter, sosfilt, sosfiltfilt, correlate\n",
    "from scipy.io.wavfile import read, write\n",
    "import IPython.display as ipd\n",
    "# import sys\n",
    "from collections import Counter\n",
    "import os\n",
    "import pandas as pd\n",
    "# import pandas as pd\n",
    "import numpy as np\n",
    "import matplotlib.colors as mcolors\n",
    "import pickle\n",
    "import csv\n",
    "from soundsig.sound import BioSound \n",
    "from soundsig.sound import WavFile\n",
    "\n",
    "# Dimension reduction and clustering libraries\n",
    "import umap\n",
    "import hdbscan\n",
    "import sklearn.cluster as cluster\n",
    "from sklearn.metrics import adjusted_rand_score, adjusted_mutual_info_score\n",
    "from sklearn.decomposition import PCA\n",
    "\n",
    "\n",
    "\n",
    "# from ipywidgets import interact, fixed\n",
    "# from ipywidgets import widgets\n",
    "import matplotlib.pyplot as plt"
   ]
  },
  {
   "cell_type": "code",
   "execution_count": 8,
   "metadata": {},
   "outputs": [
    {
     "name": "stdout",
     "output_type": "stream",
     "text": [
      "       SourceChannel    StartIndex     StopIndex\n",
      "count    4344.000000  4.344000e+03  4.344000e+03\n",
      "mean        1.402855  1.297683e+08  1.297744e+08\n",
      "std         1.050970  8.280671e+07  8.280669e+07\n",
      "min         0.000000  7.050340e+05  7.095020e+05\n",
      "25%         0.000000  5.085730e+07  5.086201e+07\n",
      "50%         2.000000  1.273715e+08  1.273772e+08\n",
      "75%         2.000000  1.937890e+08  1.937933e+08\n",
      "max         3.000000  2.980894e+08  2.980926e+08\n",
      "\n",
      "\n",
      "length of vocSelTableFull: 4344\n",
      "          Bird  project.start_index calltype         fund   devfund    cvfund  \\\n",
      "0  WhiWhi6607F                 1134    [\"0\"]   602.035277  0.020312  0.123225   \n",
      "1  BluGre1214F                  951    [\"6\"]   532.179639  0.659361  0.171370   \n",
      "2  BluGre1214F                 3202    [\"5\"]  1004.070215 -1.918334  1.029701   \n",
      "3  WhiWhi6607F                 2406    [\"6\"]   606.338279  0.138851  0.031357   \n",
      "4  BroGre1354M                  311    [\"5\"]   538.920136  0.645045  0.054985   \n",
      "\n",
      "       maxfund     minfund           F1           F2  ...      kurtS  \\\n",
      "0   676.056338  480.000000  1927.151857  5606.097997  ...  13.084285   \n",
      "1   592.592593  298.136646  1223.147592  4405.922739  ...   5.665965   \n",
      "2  3428.571429  539.325843  3282.440047  5674.842286  ...   2.485675   \n",
      "3   631.578947  564.705882  1153.195682  2492.185919  ...  12.816050   \n",
      "4   564.705882  484.848485  2085.536237  3634.836575  ...   5.098458   \n",
      "\n",
      "       entS        q1        q2       q3     meanT      stdT     skewT  \\\n",
      "0  0.754326   609.375  1031.250  1875.00  0.139157  0.077088 -0.031718   \n",
      "1  0.568655   562.500   984.375  2343.75  0.041599  0.021608 -0.048306   \n",
      "2  0.790230  1218.750  3328.125  3750.00  0.021833  0.011271 -0.066505   \n",
      "3  0.555701   656.250  1265.625  2437.50  0.049616  0.026952 -0.015422   \n",
      "4  0.733783  2156.250  2765.625  3281.25  0.029410  0.016000 -0.036766   \n",
      "\n",
      "      kurtT      entT  \n",
      "0  2.037413  0.966456  \n",
      "1  1.941768  0.994068  \n",
      "2  1.931446  0.993494  \n",
      "3  1.876354  0.998047  \n",
      "4  1.929756  0.993356  \n",
      "\n",
      "[5 rows x 27 columns]\n"
     ]
    }
   ],
   "source": [
    "# import our saved data\n",
    "base_folder = '/Users/williamwood/Documents/Data/Field Station Recordings/for_soundsep/14_38_03_18_07_2023'\n",
    "segments_file = os.path.join(base_folder, '_appdata/save/', 'segments.csv')\n",
    "segs_df = pd.read_csv(data_file)\n",
    "print(segs_df.describe())\n",
    "segs_df.head()\n",
    "\n",
    "vocSelTable = pd.read_hdf(os.path.join(base_folder, 'vocSelTableAmp.h5')) # haven't trie dthis yet\n",
    "print('\\n')\n",
    "print(f'length of vocSelTableFull: {len(vocSelTable)}')\n",
    "print(vocSelTable.head())"
   ]
  },
  {
   "cell_type": "code",
   "execution_count": 9,
   "metadata": {},
   "outputs": [
    {
     "name": "stdout",
     "output_type": "stream",
     "text": [
      "/Users/williamwood/Documents/Data/Field Station Recordings/for_soundsep/14_38_03_18_07_2023/_appdata/save/segments.csv\n"
     ]
    },
    {
     "ename": "NameError",
     "evalue": "name 'vocSelTable' is not defined",
     "output_type": "error",
     "traceback": [
      "\u001b[0;31m---------------------------------------------------------------------------\u001b[0m",
      "\u001b[0;31mNameError\u001b[0m                                 Traceback (most recent call last)",
      "Cell \u001b[0;32mIn[9], line 8\u001b[0m\n\u001b[1;32m      3\u001b[0m \u001b[38;5;28mprint\u001b[39m(syll_file_name)\n\u001b[1;32m      5\u001b[0m syllTable \u001b[38;5;241m=\u001b[39m pd\u001b[38;5;241m.\u001b[39mread_csv(syll_file_name, sep\u001b[38;5;241m=\u001b[39m\u001b[38;5;124m'\u001b[39m\u001b[38;5;124m,\u001b[39m\u001b[38;5;124m'\u001b[39m,header\u001b[38;5;241m=\u001b[39m\u001b[38;5;241m0\u001b[39m) \n\u001b[0;32m----> 8\u001b[0m vocSelTableFull \u001b[38;5;241m=\u001b[39m pd\u001b[38;5;241m.\u001b[39mmerge(left\u001b[38;5;241m=\u001b[39m\u001b[43mvocSelTable\u001b[49m, right\u001b[38;5;241m=\u001b[39msyllTable, left_on\u001b[38;5;241m=\u001b[39m\u001b[38;5;124m'\u001b[39m\u001b[38;5;124mproject.start_index\u001b[39m\u001b[38;5;124m'\u001b[39m, right_index\u001b[38;5;241m=\u001b[39m\u001b[38;5;28;01mTrue\u001b[39;00m) \u001b[38;5;66;03m# it's possible that I'm losing a couple rows here\u001b[39;00m\n\u001b[1;32m      9\u001b[0m birds \u001b[38;5;241m=\u001b[39m np\u001b[38;5;241m.\u001b[39munique(vocSelTable[\u001b[38;5;124m'\u001b[39m\u001b[38;5;124mBird\u001b[39m\u001b[38;5;124m'\u001b[39m])\n",
      "\u001b[0;31mNameError\u001b[0m: name 'vocSelTable' is not defined"
     ]
    }
   ],
   "source": [
    "# Read the annotated_syllabes.csv file to get information on solo vs overlapp\n",
    "syll_file_name = os.path.join(base_folder,'_appdata','save','segments.csv')\n",
    "print(syll_file_name)\n",
    "\n",
    "syllTable = pd.read_csv(syll_file_name, sep=',',header=0) \n",
    "\n",
    "\n",
    "vocSelTableFull = pd.merge(left=vocSelTable, right=syllTable, left_on='project.start_index', right_index=True) # it's possible that I'm losing a couple rows here\n",
    "birds = np.unique(vocSelTable['Bird'])"
   ]
  },
  {
   "cell_type": "code",
   "execution_count": null,
   "metadata": {},
   "outputs": [],
   "source": []
  },
  {
   "cell_type": "code",
   "execution_count": null,
   "metadata": {},
   "outputs": [],
   "source": [
    "# umap it\n"
   ]
  }
 ],
 "metadata": {
  "kernelspec": {
   "display_name": "base",
   "language": "python",
   "name": "python3"
  },
  "language_info": {
   "codemirror_mode": {
    "name": "ipython",
    "version": 3
   },
   "file_extension": ".py",
   "mimetype": "text/x-python",
   "name": "python",
   "nbconvert_exporter": "python",
   "pygments_lexer": "ipython3",
   "version": "3.9.15"
  }
 },
 "nbformat": 4,
 "nbformat_minor": 2
}
